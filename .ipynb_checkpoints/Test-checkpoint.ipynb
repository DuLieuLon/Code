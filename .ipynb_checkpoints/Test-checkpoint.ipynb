{
 "cells": [
  {
   "cell_type": "code",
   "execution_count": 22,
   "metadata": {},
   "outputs": [],
   "source": [
    "import operator\n",
    "import numpy as np\n",
    "import pickle, string, re\n",
    "from pyvi import ViTokenizer, ViPosTagger\n",
    "from keras.models import Model\n",
    "from keras.models import load_model\n",
    "from keras.preprocessing.text import *\n",
    "from keras.preprocessing.sequence import *"
   ]
  },
  {
   "cell_type": "code",
   "execution_count": 23,
   "metadata": {},
   "outputs": [],
   "source": [
    "def normalText(sent):\n",
    "    sent = str(sent).replace('_',' ').replace('/',' trên ')\n",
    "    sent = re.sub('-{2,}','',sent)\n",
    "    sent = re.sub('\\\\s+',' ', sent)\n",
    "    patPrice = r'([0-9]+k?(\\s?-\\s?)[0-9]+\\s?(k|K))|([0-9]+(.|,)?[0-9]+\\s?(triệu|ngàn|trăm|k|K|))|([0-9]+(.[0-9]+)?Ä‘)|([0-9]+k)'\n",
    "    patURL = r\"(?:http://|www.)[^\\\"]+\"\n",
    "    sent = re.sub(patURL,'website',sent)\n",
    "    sent = re.sub(patPrice, ' giá_tiền ', sent)\n",
    "    sent = re.sub('\\.+','.',sent)\n",
    "    sent = re.sub('(hagtag\\\\s+)+',' hagtag ',sent)\n",
    "    sent = re.sub('\\\\s+',' ',sent)\n",
    "    return sent\n",
    "\n",
    "def deleteIcon(text):\n",
    "    text = text.lower()\n",
    "    s = ''\n",
    "    pattern = r\"[a-zA-ZaăâbcdđeêghiklmnoôơpqrstuưvxyàằầbcdđèềghìklmnòồờpqrstùừvxỳáắấbcdđéếghíklmnóốớpqrstúứvxýảẳẩbcdđẻểghỉklmnỏổởpqrstủửvxỷạặậbcdđẹệghịklmnọộợpqrstụựvxỵãẵẫbcdđẽễghĩklmnõỗỡpqrstũữvxỹAĂÂBCDĐEÊGHIKLMNOÔƠPQRSTUƯVXYÀẰẦBCDĐÈỀGHÌKLMNÒỒỜPQRSTÙỪVXỲÁẮẤBCDĐÉẾGHÍKLMNÓỐỚPQRSTÚỨVXÝẠẶẬBCDĐẸỆGHỊKLMNỌỘỢPQRSTỤỰVXỴẢẲẨBCDĐẺỂGHỈKLMNỎỔỞPQRSTỦỬVXỶÃẴẪBCDĐẼỄGHĨKLMNÕỖỠPQRSTŨỮVXỸ,._]\"\n",
    "    \n",
    "    for char in text:\n",
    "        if char !=' ':\n",
    "            if len(re.findall(pattern, char)) != 0:\n",
    "                s+=char\n",
    "            elif char == '_':\n",
    "                s+=char\n",
    "        else:\n",
    "            s+=char\n",
    "    s = re.sub('\\\\s+',' ',s)\n",
    "    return s.strip()\n",
    "\n",
    "\n",
    "def clean_doc(doc):\n",
    "    for punc in string.punctuation:\n",
    "        doc = doc.replace(punc,' '+ punc + ' ')\n",
    "    doc = normalText(doc)\n",
    "    doc = deleteIcon(doc)\n",
    "    doc = ViTokenizer.tokenize(doc)\n",
    "    doc = doc.lower()\n",
    "    doc = re.sub(r\"\\?\", \" \\? \", doc)\n",
    "    doc = re.sub(r\"[0-9]+\", \" num \", doc)\n",
    "    for punc in string.punctuation:\n",
    "        if punc not in \"_\":\n",
    "            doc = doc.replace(punc,' ')\n",
    "    doc = re.sub('\\\\s+',' ',doc)\n",
    "    return doc"
   ]
  },
  {
   "cell_type": "code",
   "execution_count": 24,
   "metadata": {},
   "outputs": [],
   "source": [
    "path_save ='model/'\n",
    "model = load_model(path_save + 'ResCNN_model.h5')\n",
    "\n",
    "with open('model/input_tokenizer.pkl', 'rb') as fp:\n",
    "    input_tokenizer = pickle.load(fp)"
   ]
  },
  {
   "cell_type": "code",
   "execution_count": 25,
   "metadata": {},
   "outputs": [],
   "source": [
    "maxLength = 548"
   ]
  },
  {
   "cell_type": "code",
   "execution_count": 28,
   "metadata": {},
   "outputs": [
    {
     "name": "stdout",
     "output_type": "stream",
     "text": [
      "Đầu vào:  Mùa đông rồi còn gì tuyệt vời hơn là ăn ốc với ăn ngao 😍 - Nguyễn Khiết là ngõ cắt ngang Phúc Tân ấy các bạn ạ. Chỗ mà nhiều nhiều hàng karaoke. - Ăn ở đây thì hơi xa một chút nhưng ôii thôi ngon thôi rồi đảm bảo không mất công lên đây ăn đâu. - Giá chỉ 30k-40k cho 1 bát ngao hấp đầy ú ụ luôn 💓- Chỗ như ảnh mình ăn hết có 100k huhu mà 2 ng ăn no chết đi đc. Coca có 5k 1 chai trà đá thì free luôn nhé các bạn 😍 - Bác chủ quán hiền lắm luôn ý. Nhiều lúc mình gọi nhiều ăn chả hết xong bác ý còn chả lấy tiền cơ 😭😩\n",
      "Dự đoán:  {FOOD#STYLE&OPTIONS, positive}, {FOOD#PRICES, positive}, {FOOD#QUALITY, positive}, {SERVICE#GENERAL, positive}, \n"
     ]
    }
   ],
   "source": [
    "input_text = \"Mùa đông rồi còn gì tuyệt vời hơn là ăn ốc với ăn ngao 😍 - Nguyễn Khiết là ngõ cắt ngang Phúc Tân ấy các bạn ạ. Chỗ mà nhiều nhiều hàng karaoke. - Ăn ở đây thì hơi xa một chút nhưng ôii thôi ngon thôi rồi đảm bảo không mất công lên đây ăn đâu. - Giá chỉ 30k-40k cho 1 bát ngao hấp đầy ú ụ luôn 💓- Chỗ như ảnh mình ăn hết có 100k huhu mà 2 ng ăn no chết đi đc. Coca có 5k 1 chai trà đá thì free luôn nhé các bạn 😍 - Bác chủ quán hiền lắm luôn ý. Nhiều lúc mình gọi nhiều ăn chả hết xong bác ý còn chả lấy tiền cơ 😭😩\"\n",
    "input_clean = clean_doc(input_text)\n",
    "input_index = np.array(pad_sequences(input_tokenizer.texts_to_sequences([input_clean]), maxlen=maxLength,padding=\"post\"))\n",
    "\n",
    "listLabel = 'FOOD#STYLE&OPTIONS,FOOD#PRICES,FOOD#QUALITY,DRINKS#STYLE&OPTIONS,DRINKS#QUALITY,DRINKS#PRICES,RESTAURANT#GENERAL,RESTAURANT#MISCELLANEOUS,RESTAURANT#PRICES,LOCATION#GENERAL,SERVICE#GENERAL,AMBIENCE#GENERAL'\n",
    "categories = listLabel.split(',')\n",
    "\n",
    "predicted = model.predict([np.expand_dims(input_index[0], axis=0)])\n",
    "output = ''\n",
    "for i, predict in enumerate(predicted):\n",
    "    index2, value = max(enumerate(predict[0]), key=operator.itemgetter(1))\n",
    "    if index2 == 1:\n",
    "        output+= '{' + str(categories[i]) + ', positive}, '\n",
    "    elif index2 == 2:\n",
    "        output+= '{' + str(categories[i]) + ', neutral}, '\n",
    "    elif index2 == 3:\n",
    "        output+= '{' + str(categories[i]) + ', negative}, '\n",
    "print(\"Đầu vào: \", input_text)\n",
    "print(\"Dự đoán: \", output)"
   ]
  },
  {
   "cell_type": "code",
   "execution_count": null,
   "metadata": {},
   "outputs": [],
   "source": []
  }
 ],
 "metadata": {
  "kernelspec": {
   "display_name": "Python 3",
   "language": "python",
   "name": "python3"
  },
  "language_info": {
   "codemirror_mode": {
    "name": "ipython",
    "version": 3
   },
   "file_extension": ".py",
   "mimetype": "text/x-python",
   "name": "python",
   "nbconvert_exporter": "python",
   "pygments_lexer": "ipython3",
   "version": "3.8.3"
  }
 },
 "nbformat": 4,
 "nbformat_minor": 4
}
