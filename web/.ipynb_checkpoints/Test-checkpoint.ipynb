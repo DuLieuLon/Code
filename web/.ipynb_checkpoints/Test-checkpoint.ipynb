{
 "cells": [
  {
   "cell_type": "code",
   "execution_count": 3,
   "metadata": {},
   "outputs": [
    {
     "name": "stdout",
     "output_type": "stream",
     "text": [
      "Requirement already satisfied: tensorflow in c:\\programdata\\anaconda3\\lib\\site-packages (2.3.1)\n",
      "Requirement already satisfied: tensorboard<3,>=2.3.0 in c:\\programdata\\anaconda3\\lib\\site-packages (from tensorflow) (2.3.0)\n",
      "Requirement already satisfied: tensorflow-estimator<2.4.0,>=2.3.0 in c:\\programdata\\anaconda3\\lib\\site-packages (from tensorflow) (2.3.0)\n",
      "Requirement already satisfied: wheel>=0.26 in c:\\programdata\\anaconda3\\lib\\site-packages (from tensorflow) (0.34.2)\n",
      "Requirement already satisfied: astunparse==1.6.3 in c:\\programdata\\anaconda3\\lib\\site-packages (from tensorflow) (1.6.3)\n",
      "Requirement already satisfied: numpy<1.19.0,>=1.16.0 in c:\\programdata\\anaconda3\\lib\\site-packages (from tensorflow) (1.18.5)\n",
      "Requirement already satisfied: grpcio>=1.8.6 in c:\\programdata\\anaconda3\\lib\\site-packages (from tensorflow) (1.33.2)\n",
      "Requirement already satisfied: absl-py>=0.7.0 in c:\\programdata\\anaconda3\\lib\\site-packages (from tensorflow) (0.11.0)\n",
      "Requirement already satisfied: h5py<2.11.0,>=2.10.0 in c:\\programdata\\anaconda3\\lib\\site-packages (from tensorflow) (2.10.0)\n",
      "Requirement already satisfied: gast==0.3.3 in c:\\programdata\\anaconda3\\lib\\site-packages (from tensorflow) (0.3.3)\n",
      "Requirement already satisfied: opt-einsum>=2.3.2 in c:\\programdata\\anaconda3\\lib\\site-packages (from tensorflow) (3.3.0)\n",
      "Requirement already satisfied: six>=1.12.0 in c:\\programdata\\anaconda3\\lib\\site-packages (from tensorflow) (1.15.0)\n",
      "Requirement already satisfied: keras-preprocessing<1.2,>=1.1.1 in c:\\programdata\\anaconda3\\lib\\site-packages (from tensorflow) (1.1.2)\n",
      "Requirement already satisfied: google-pasta>=0.1.8 in c:\\programdata\\anaconda3\\lib\\site-packages (from tensorflow) (0.2.0)\n",
      "Requirement already satisfied: protobuf>=3.9.2 in c:\\programdata\\anaconda3\\lib\\site-packages (from tensorflow) (3.13.0)\n",
      "Requirement already satisfied: wrapt>=1.11.1 in c:\\programdata\\anaconda3\\lib\\site-packages (from tensorflow) (1.11.2)\n",
      "Requirement already satisfied: termcolor>=1.1.0 in c:\\programdata\\anaconda3\\lib\\site-packages (from tensorflow) (1.1.0)\n",
      "Requirement already satisfied: markdown>=2.6.8 in c:\\programdata\\anaconda3\\lib\\site-packages (from tensorboard<3,>=2.3.0->tensorflow) (3.3.3)\n",
      "Requirement already satisfied: requests<3,>=2.21.0 in c:\\programdata\\anaconda3\\lib\\site-packages (from tensorboard<3,>=2.3.0->tensorflow) (2.24.0)\n",
      "Requirement already satisfied: werkzeug>=0.11.15 in c:\\programdata\\anaconda3\\lib\\site-packages (from tensorboard<3,>=2.3.0->tensorflow) (1.0.1)\n",
      "Requirement already satisfied: google-auth-oauthlib<0.5,>=0.4.1 in c:\\programdata\\anaconda3\\lib\\site-packages (from tensorboard<3,>=2.3.0->tensorflow) (0.4.2)\n",
      "Requirement already satisfied: setuptools>=41.0.0 in c:\\programdata\\anaconda3\\lib\\site-packages (from tensorboard<3,>=2.3.0->tensorflow) (49.2.0.post20200714)\n",
      "Requirement already satisfied: google-auth<2,>=1.6.3 in c:\\programdata\\anaconda3\\lib\\site-packages (from tensorboard<3,>=2.3.0->tensorflow) (1.23.0)\n",
      "Requirement already satisfied: tensorboard-plugin-wit>=1.6.0 in c:\\programdata\\anaconda3\\lib\\site-packages (from tensorboard<3,>=2.3.0->tensorflow) (1.7.0)\n",
      "Requirement already satisfied: certifi>=2017.4.17 in c:\\programdata\\anaconda3\\lib\\site-packages (from requests<3,>=2.21.0->tensorboard<3,>=2.3.0->tensorflow) (2020.6.20)\n",
      "Requirement already satisfied: idna<3,>=2.5 in c:\\programdata\\anaconda3\\lib\\site-packages (from requests<3,>=2.21.0->tensorboard<3,>=2.3.0->tensorflow) (2.10)\n",
      "Requirement already satisfied: chardet<4,>=3.0.2 in c:\\programdata\\anaconda3\\lib\\site-packages (from requests<3,>=2.21.0->tensorboard<3,>=2.3.0->tensorflow) (3.0.4)\n",
      "Requirement already satisfied: urllib3!=1.25.0,!=1.25.1,<1.26,>=1.21.1 in c:\\programdata\\anaconda3\\lib\\site-packages (from requests<3,>=2.21.0->tensorboard<3,>=2.3.0->tensorflow) (1.25.9)\n",
      "Requirement already satisfied: requests-oauthlib>=0.7.0 in c:\\programdata\\anaconda3\\lib\\site-packages (from google-auth-oauthlib<0.5,>=0.4.1->tensorboard<3,>=2.3.0->tensorflow) (1.3.0)\n",
      "Requirement already satisfied: pyasn1-modules>=0.2.1 in c:\\programdata\\anaconda3\\lib\\site-packages (from google-auth<2,>=1.6.3->tensorboard<3,>=2.3.0->tensorflow) (0.2.8)\n",
      "Requirement already satisfied: cachetools<5.0,>=2.0.0 in c:\\programdata\\anaconda3\\lib\\site-packages (from google-auth<2,>=1.6.3->tensorboard<3,>=2.3.0->tensorflow) (4.1.1)\n",
      "Requirement already satisfied: rsa<5,>=3.1.4; python_version >= \"3.5\" in c:\\programdata\\anaconda3\\lib\\site-packages (from google-auth<2,>=1.6.3->tensorboard<3,>=2.3.0->tensorflow) (4.6)\n",
      "Requirement already satisfied: oauthlib>=3.0.0 in c:\\programdata\\anaconda3\\lib\\site-packages (from requests-oauthlib>=0.7.0->google-auth-oauthlib<0.5,>=0.4.1->tensorboard<3,>=2.3.0->tensorflow) (3.1.0)\n",
      "Requirement already satisfied: pyasn1<0.5.0,>=0.4.6 in c:\\programdata\\anaconda3\\lib\\site-packages (from pyasn1-modules>=0.2.1->google-auth<2,>=1.6.3->tensorboard<3,>=2.3.0->tensorflow) (0.4.8)\n",
      "Requirement already satisfied: pyvi in c:\\programdata\\anaconda3\\lib\\site-packages (0.1)\n",
      "Requirement already satisfied: sklearn-crfsuite in c:\\programdata\\anaconda3\\lib\\site-packages (from pyvi) (0.3.6)\n",
      "Requirement already satisfied: scikit-learn in c:\\programdata\\anaconda3\\lib\\site-packages (from pyvi) (0.23.1)\n",
      "Requirement already satisfied: six in c:\\programdata\\anaconda3\\lib\\site-packages (from sklearn-crfsuite->pyvi) (1.15.0)\n",
      "Requirement already satisfied: tabulate in c:\\programdata\\anaconda3\\lib\\site-packages (from sklearn-crfsuite->pyvi) (0.8.7)\n",
      "Requirement already satisfied: tqdm>=2.0 in c:\\programdata\\anaconda3\\lib\\site-packages (from sklearn-crfsuite->pyvi) (4.47.0)\n",
      "Requirement already satisfied: python-crfsuite>=0.8.3 in c:\\programdata\\anaconda3\\lib\\site-packages (from sklearn-crfsuite->pyvi) (0.9.7)\n",
      "Requirement already satisfied: joblib>=0.11 in c:\\programdata\\anaconda3\\lib\\site-packages (from scikit-learn->pyvi) (0.16.0)\n",
      "Requirement already satisfied: scipy>=0.19.1 in c:\\programdata\\anaconda3\\lib\\site-packages (from scikit-learn->pyvi) (1.5.0)\n",
      "Requirement already satisfied: threadpoolctl>=2.0.0 in c:\\programdata\\anaconda3\\lib\\site-packages (from scikit-learn->pyvi) (2.1.0)\n",
      "Requirement already satisfied: numpy>=1.13.3 in c:\\programdata\\anaconda3\\lib\\site-packages (from scikit-learn->pyvi) (1.18.5)\n",
      "Collecting keras\n",
      "  Downloading Keras-2.4.3-py2.py3-none-any.whl (36 kB)\n",
      "Requirement already satisfied: pyyaml in c:\\programdata\\anaconda3\\lib\\site-packages (from keras) (5.3.1)\n",
      "Requirement already satisfied: h5py in c:\\programdata\\anaconda3\\lib\\site-packages (from keras) (2.10.0)\n",
      "Requirement already satisfied: scipy>=0.14 in c:\\programdata\\anaconda3\\lib\\site-packages (from keras) (1.5.0)\n",
      "Requirement already satisfied: numpy>=1.9.1 in c:\\programdata\\anaconda3\\lib\\site-packages (from keras) (1.18.5)\n",
      "Requirement already satisfied: six in c:\\programdata\\anaconda3\\lib\\site-packages (from h5py->keras) (1.15.0)\n",
      "Installing collected packages: keras\n",
      "Successfully installed keras-2.4.3\n"
     ]
    }
   ],
   "source": [
    "!pip install tensorflow\n",
    "!pip install pyvi\n",
    "!pip install keras"
   ]
  },
  {
   "cell_type": "code",
   "execution_count": 4,
   "metadata": {},
   "outputs": [],
   "source": [
    "import operator\n",
    "import numpy as np\n",
    "import pickle, string, re\n",
    "from pyvi import ViTokenizer, ViPosTagger\n",
    "from keras.models import Model\n",
    "from keras.models import load_model\n",
    "from keras.preprocessing.text import *\n",
    "from keras.preprocessing.sequence import *"
   ]
  },
  {
   "cell_type": "code",
   "execution_count": 5,
   "metadata": {},
   "outputs": [],
   "source": [
    "def normalText(sent):\n",
    "    sent = str(sent).replace('_',' ').replace('/',' trên ')\n",
    "    sent = re.sub('-{2,}','',sent)\n",
    "    sent = re.sub('\\\\s+',' ', sent)\n",
    "    patPrice = r'([0-9]+k?(\\s?-\\s?)[0-9]+\\s?(k|K))|([0-9]+(.|,)?[0-9]+\\s?(triệu|ngàn|trăm|k|K|))|([0-9]+(.[0-9]+)?Ä‘)|([0-9]+k)'\n",
    "    patURL = r\"(?:http://|www.)[^\\\"]+\"\n",
    "    sent = re.sub(patURL,'website',sent)\n",
    "    sent = re.sub(patPrice, ' giá_tiền ', sent)\n",
    "    sent = re.sub('\\.+','.',sent)\n",
    "    sent = re.sub('(hagtag\\\\s+)+',' hagtag ',sent)\n",
    "    sent = re.sub('\\\\s+',' ',sent)\n",
    "    return sent\n",
    "\n",
    "def deleteIcon(text):\n",
    "    text = text.lower()\n",
    "    s = ''\n",
    "    pattern = r\"[a-zA-ZaăâbcdđeêghiklmnoôơpqrstuưvxyàằầbcdđèềghìklmnòồờpqrstùừvxỳáắấbcdđéếghíklmnóốớpqrstúứvxýảẳẩbcdđẻểghỉklmnỏổởpqrstủửvxỷạặậbcdđẹệghịklmnọộợpqrstụựvxỵãẵẫbcdđẽễghĩklmnõỗỡpqrstũữvxỹAĂÂBCDĐEÊGHIKLMNOÔƠPQRSTUƯVXYÀẰẦBCDĐÈỀGHÌKLMNÒỒỜPQRSTÙỪVXỲÁẮẤBCDĐÉẾGHÍKLMNÓỐỚPQRSTÚỨVXÝẠẶẬBCDĐẸỆGHỊKLMNỌỘỢPQRSTỤỰVXỴẢẲẨBCDĐẺỂGHỈKLMNỎỔỞPQRSTỦỬVXỶÃẴẪBCDĐẼỄGHĨKLMNÕỖỠPQRSTŨỮVXỸ,._]\"\n",
    "    \n",
    "    for char in text:\n",
    "        if char !=' ':\n",
    "            if len(re.findall(pattern, char)) != 0:\n",
    "                s+=char\n",
    "            elif char == '_':\n",
    "                s+=char\n",
    "        else:\n",
    "            s+=char\n",
    "    s = re.sub('\\\\s+',' ',s)\n",
    "    return s.strip()\n",
    "\n",
    "\n",
    "def clean_doc(doc):\n",
    "    for punc in string.punctuation:\n",
    "        doc = doc.replace(punc,' '+ punc + ' ')\n",
    "    doc = normalText(doc)\n",
    "    doc = deleteIcon(doc)\n",
    "    doc = ViTokenizer.tokenize(doc)\n",
    "    doc = doc.lower()\n",
    "    doc = re.sub(r\"\\?\", \" \\? \", doc)\n",
    "    doc = re.sub(r\"[0-9]+\", \" num \", doc)\n",
    "    for punc in string.punctuation:\n",
    "        if punc not in \"_\":\n",
    "            doc = doc.replace(punc,' ')\n",
    "    doc = re.sub('\\\\s+',' ',doc)\n",
    "    return doc\n",
    "\n",
    "def predict(input_text):\n",
    "    input_clean = clean_doc(input_text)\n",
    "    input_index = np.array(pad_sequences(input_tokenizer.texts_to_sequences([input_clean]), maxlen=maxLength,padding=\"post\"))\n",
    "\n",
    "    listLabel = 'FOOD#STYLE&OPTIONS,FOOD#PRICES,FOOD#QUALITY,DRINKS#STYLE&OPTIONS,DRINKS#QUALITY,DRINKS#PRICES,RESTAURANT#GENERAL,RESTAURANT#MISCELLANEOUS,RESTAURANT#PRICES,LOCATION#GENERAL,SERVICE#GENERAL,AMBIENCE#GENERAL'\n",
    "    categories = listLabel.split(',')\n",
    "\n",
    "    predicted = model.predict([np.expand_dims(input_index[0], axis=0)])\n",
    "    output = []\n",
    "    for i, predict in enumerate(predicted):\n",
    "        index2, value = max(enumerate(predict[0]), key=operator.itemgetter(1))\n",
    "        if index2 == 1:\n",
    "            output += [str(categories[i]) + ', positive']\n",
    "        elif index2 == 2:\n",
    "            output += [str(categories[i]) + ', neutral}']\n",
    "        elif index2 == 3:\n",
    "            output += [str(categories[i]) + ', negative']\n",
    "    \n",
    "    return output"
   ]
  },
  {
   "cell_type": "code",
   "execution_count": 8,
   "metadata": {},
   "outputs": [],
   "source": [
    "model = load_model('../model/ResCNN_model.h5')\n",
    "with open('../model/input_tokenizer.pkl', 'rb') as fp:\n",
    "    input_tokenizer = pickle.load(fp)\n",
    "maxLength = 548"
   ]
  },
  {
   "cell_type": "markdown",
   "metadata": {},
   "source": [
    "### Test"
   ]
  },
  {
   "cell_type": "code",
   "execution_count": 9,
   "metadata": {},
   "outputs": [
    {
     "data": {
      "text/plain": [
       "['FOOD#STYLE&OPTIONS, positive',\n",
       " 'FOOD#PRICES, positive',\n",
       " 'FOOD#QUALITY, positive',\n",
       " 'SERVICE#GENERAL, positive']"
      ]
     },
     "execution_count": 9,
     "metadata": {},
     "output_type": "execute_result"
    }
   ],
   "source": [
    "input_text = '''\n",
    "    Mùa đông rồi còn gì tuyệt vời hơn là ăn ốc với ăn ngao 😍- Nguyễn Khiết\n",
    "    là ngõ cắt ngang Phúc Tân ấy các bạn ạ. Chỗ mà nhiều nhiều hàng karaoke.\n",
    "    - Ăn ở đây thì hơi xa một chút nhưng ôii thôi ngon thôi rồi đảm bảo không\n",
    "    mất công lên đây ăn đâu. - Giá chỉ 30k-40k cho 1 bát ngao hấp đầy ú ụ luôn\n",
    "    💓- Chỗ như ảnh mình ăn hết có 100k huhu mà 2 ng ăn no chết đi đc. Coca\n",
    "    có 5k 1 chai trà đá thì free luôn nhé các bạn 😍 - Bác chủ quán hiền lắm\n",
    "    luôn ý. Nhiều lúc mình gọi nhiều ăn chả hết xong bác ý còn chả lấy tiền cơ 😭😩\n",
    "'''\n",
    "predict(input_text)"
   ]
  },
  {
   "cell_type": "markdown",
   "metadata": {},
   "source": [
    "# API"
   ]
  },
  {
   "cell_type": "code",
   "execution_count": 13,
   "metadata": {},
   "outputs": [
    {
     "name": "stdout",
     "output_type": "stream",
     "text": [
      "Collecting flask_cors\n",
      "  Downloading Flask_Cors-3.0.9-py2.py3-none-any.whl (14 kB)\n",
      "Requirement already satisfied: Six in c:\\programdata\\anaconda3\\lib\\site-packages (from flask_cors) (1.15.0)\n",
      "Requirement already satisfied: Flask>=0.9 in c:\\programdata\\anaconda3\\lib\\site-packages (from flask_cors) (1.1.2)\n",
      "Requirement already satisfied: Jinja2>=2.10.1 in c:\\programdata\\anaconda3\\lib\\site-packages (from Flask>=0.9->flask_cors) (2.11.2)\n",
      "Requirement already satisfied: click>=5.1 in c:\\programdata\\anaconda3\\lib\\site-packages (from Flask>=0.9->flask_cors) (7.1.2)\n",
      "Requirement already satisfied: Werkzeug>=0.15 in c:\\programdata\\anaconda3\\lib\\site-packages (from Flask>=0.9->flask_cors) (1.0.1)\n",
      "Requirement already satisfied: itsdangerous>=0.24 in c:\\programdata\\anaconda3\\lib\\site-packages (from Flask>=0.9->flask_cors) (1.1.0)\n",
      "Requirement already satisfied: MarkupSafe>=0.23 in c:\\programdata\\anaconda3\\lib\\site-packages (from Jinja2>=2.10.1->Flask>=0.9->flask_cors) (1.1.1)\n",
      "Installing collected packages: flask-cors\n",
      "Successfully installed flask-cors-3.0.9\n"
     ]
    }
   ],
   "source": [
    "!pip install flask_cors"
   ]
  },
  {
   "cell_type": "code",
   "execution_count": 14,
   "metadata": {},
   "outputs": [],
   "source": [
    "import json\n",
    "from flask import Flask, request, jsonify\n",
    "from werkzeug.wrappers import Request, Response\n",
    "from flask.views import MethodView\n",
    "from flask_cors import CORS"
   ]
  },
  {
   "cell_type": "code",
   "execution_count": 15,
   "metadata": {},
   "outputs": [],
   "source": [
    "app = Flask(__name__)\n",
    "cors = CORS(app, resources={r\"*\": {\"origins\": \"*\"}})"
   ]
  },
  {
   "cell_type": "code",
   "execution_count": 16,
   "metadata": {},
   "outputs": [],
   "source": [
    "@app.route('/setmodel', methods=['POST'])\n",
    "def setter():\n",
    "    global model\n",
    "    if request.method == \"POST\":\n",
    "        try:\n",
    "            model_name = request.get_json()['Model']\n",
    "            if model_name == 'CNN':\n",
    "                model = load_model('../model/ResCNN_model.h5')\n",
    "            elif model_name == 'BiLSTM-CNN':\n",
    "                model = load_model('../model/BiLSTM_CNN_model.h5')\n",
    "#                pass\n",
    "#                 MODE = load_model('path to lstm')\n",
    "        except:\n",
    "            return 'error'\n",
    "    return 'ok'\n",
    "\n",
    "def sentiment_analysis(sentence):\n",
    "    return jsonify(predict(sentence))\n",
    "app.add_url_rule('/sentiment-analysis/<string:sentence>', 'sentiment_analysis', sentiment_analysis)\n",
    "\n",
    "def index():\n",
    "    return \"ok\"\n",
    "app.add_url_rule('/', 'index', index)\n",
    "\n",
    "# app.run(host='localhost', port=8080, debug=True)"
   ]
  },
  {
   "cell_type": "code",
   "execution_count": null,
   "metadata": {},
   "outputs": [
    {
     "name": "stderr",
     "output_type": "stream",
     "text": [
      " * Running on http://localhost:8080/ (Press CTRL+C to quit)\n",
      "127.0.0.1 - - [02/Nov/2020 13:20:55] \"\u001b[37mGET / HTTP/1.1\u001b[0m\" 200 -\n",
      "127.0.0.1 - - [02/Nov/2020 13:20:55] \"\u001b[33mGET /favicon.ico HTTP/1.1\u001b[0m\" 404 -\n",
      "127.0.0.1 - - [02/Nov/2020 13:21:18] \"\u001b[37mGET /sentiment-analysis/đồ%20ăn%20như%20cứt,%20phục%20vụ%20tệ HTTP/1.1\u001b[0m\" 200 -\n",
      "127.0.0.1 - - [02/Nov/2020 13:22:06] \"\u001b[37mGET /sentiment-analysis/đồ%20ăn%20như%20cứt,%20phục%20vụ%20tệ,%20giá%20thì%20đắt HTTP/1.1\u001b[0m\" 200 -\n",
      "127.0.0.1 - - [02/Nov/2020 13:22:11] \"\u001b[37mOPTIONS /setmodel HTTP/1.1\u001b[0m\" 200 -\n",
      "127.0.0.1 - - [02/Nov/2020 13:22:13] \"\u001b[37mPOST /setmodel HTTP/1.1\u001b[0m\" 200 -\n",
      "127.0.0.1 - - [02/Nov/2020 13:22:14] \"\u001b[37mGET /sentiment-analysis/đồ%20ăn%20như%20cứt,%20phục%20vụ%20tệ,%20giá%20thì%20đắt HTTP/1.1\u001b[0m\" 200 -\n",
      "127.0.0.1 - - [02/Nov/2020 13:22:17] \"\u001b[37mGET /sentiment-analysis/dở%20tệ HTTP/1.1\u001b[0m\" 200 -\n"
     ]
    }
   ],
   "source": [
    "if __name__ == '__main__':\n",
    "    from werkzeug.serving import run_simple\n",
    "    run_simple('localhost', 8080, app)"
   ]
  },
  {
   "cell_type": "markdown",
   "metadata": {},
   "source": [
    "### Server directory"
   ]
  },
  {
   "cell_type": "code",
   "execution_count": null,
   "metadata": {},
   "outputs": [],
   "source": [
    "!python -m http.server 8000"
   ]
  },
  {
   "cell_type": "code",
   "execution_count": null,
   "metadata": {},
   "outputs": [],
   "source": []
  }
 ],
 "metadata": {
  "kernelspec": {
   "display_name": "Python 3",
   "language": "python",
   "name": "python3"
  },
  "language_info": {
   "codemirror_mode": {
    "name": "ipython",
    "version": 3
   },
   "file_extension": ".py",
   "mimetype": "text/x-python",
   "name": "python",
   "nbconvert_exporter": "python",
   "pygments_lexer": "ipython3",
   "version": "3.8.3"
  }
 },
 "nbformat": 4,
 "nbformat_minor": 4
}
